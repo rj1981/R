{
 "cells": [
  {
   "cell_type": "markdown",
   "metadata": {},
   "source": [
    "# Data set :\n",
    "\n",
    "### File ini berisi data set dari pengguna netflix. Data ini berdasarkan dari rating. Dari data ini dapat di lihat berdasarkan rating, mana yang banyak ditonton oleh pengguna netflix\n",
    "\n",
    "### file ini berisi tentang :\n",
    "1. Title\n",
    "2. Rating\n",
    "3. Rating Level\n",
    "4. Rating Description\n",
    "5. Release Yer\n",
    "6. User Rating Score\n",
    "7. User Rating Size\n",
    "\n",
    "### Tujuan analisa adalah melihat banyak nya film yang di tonton sesuai rating dengan rating score\n",
    "\n",
    "# sumber data : https://www.kaggle.com/kerneler/starter-netflix-813774f1-6"
   ]
  },
  {
   "cell_type": "code",
   "execution_count": 28,
   "metadata": {},
   "outputs": [],
   "source": [
    "import pandas as pd\n",
    "import numpy as np\n",
    "import matplotlib.pyplot as plt\n",
    "import seaborn as sns"
   ]
  },
  {
   "cell_type": "code",
   "execution_count": 29,
   "metadata": {},
   "outputs": [],
   "source": [
    "df_n = pd.read_csv('Netflix Shows.csv', encoding='latin-1')"
   ]
  },
  {
   "cell_type": "code",
   "execution_count": 30,
   "metadata": {},
   "outputs": [
    {
     "data": {
      "text/html": [
       "<div>\n",
       "<style scoped>\n",
       "    .dataframe tbody tr th:only-of-type {\n",
       "        vertical-align: middle;\n",
       "    }\n",
       "\n",
       "    .dataframe tbody tr th {\n",
       "        vertical-align: top;\n",
       "    }\n",
       "\n",
       "    .dataframe thead th {\n",
       "        text-align: right;\n",
       "    }\n",
       "</style>\n",
       "<table border=\"1\" class=\"dataframe\">\n",
       "  <thead>\n",
       "    <tr style=\"text-align: right;\">\n",
       "      <th></th>\n",
       "      <th>title</th>\n",
       "      <th>rating</th>\n",
       "      <th>ratingLevel</th>\n",
       "      <th>ratingDescription</th>\n",
       "      <th>release year</th>\n",
       "      <th>user rating score</th>\n",
       "      <th>user rating size</th>\n",
       "    </tr>\n",
       "  </thead>\n",
       "  <tbody>\n",
       "    <tr>\n",
       "      <td>0</td>\n",
       "      <td>White Chicks</td>\n",
       "      <td>PG-13</td>\n",
       "      <td>crude and sexual humor, language and some drug...</td>\n",
       "      <td>80</td>\n",
       "      <td>2004</td>\n",
       "      <td>82.0</td>\n",
       "      <td>80</td>\n",
       "    </tr>\n",
       "    <tr>\n",
       "      <td>1</td>\n",
       "      <td>Lucky Number Slevin</td>\n",
       "      <td>R</td>\n",
       "      <td>strong violence, sexual content and adult lang...</td>\n",
       "      <td>100</td>\n",
       "      <td>2006</td>\n",
       "      <td>NaN</td>\n",
       "      <td>82</td>\n",
       "    </tr>\n",
       "    <tr>\n",
       "      <td>2</td>\n",
       "      <td>Grey's Anatomy</td>\n",
       "      <td>TV-14</td>\n",
       "      <td>Parents strongly cautioned. May be unsuitable ...</td>\n",
       "      <td>90</td>\n",
       "      <td>2016</td>\n",
       "      <td>98.0</td>\n",
       "      <td>80</td>\n",
       "    </tr>\n",
       "    <tr>\n",
       "      <td>3</td>\n",
       "      <td>Prison Break</td>\n",
       "      <td>TV-14</td>\n",
       "      <td>Parents strongly cautioned. May be unsuitable ...</td>\n",
       "      <td>90</td>\n",
       "      <td>2008</td>\n",
       "      <td>98.0</td>\n",
       "      <td>80</td>\n",
       "    </tr>\n",
       "    <tr>\n",
       "      <td>4</td>\n",
       "      <td>How I Met Your Mother</td>\n",
       "      <td>TV-PG</td>\n",
       "      <td>Parental guidance suggested. May not be suitab...</td>\n",
       "      <td>70</td>\n",
       "      <td>2014</td>\n",
       "      <td>94.0</td>\n",
       "      <td>80</td>\n",
       "    </tr>\n",
       "  </tbody>\n",
       "</table>\n",
       "</div>"
      ],
      "text/plain": [
       "                   title rating  \\\n",
       "0           White Chicks  PG-13   \n",
       "1    Lucky Number Slevin      R   \n",
       "2         Grey's Anatomy  TV-14   \n",
       "3           Prison Break  TV-14   \n",
       "4  How I Met Your Mother  TV-PG   \n",
       "\n",
       "                                         ratingLevel  ratingDescription  \\\n",
       "0  crude and sexual humor, language and some drug...                 80   \n",
       "1  strong violence, sexual content and adult lang...                100   \n",
       "2  Parents strongly cautioned. May be unsuitable ...                 90   \n",
       "3  Parents strongly cautioned. May be unsuitable ...                 90   \n",
       "4  Parental guidance suggested. May not be suitab...                 70   \n",
       "\n",
       "   release year  user rating score  user rating size  \n",
       "0          2004               82.0                80  \n",
       "1          2006                NaN                82  \n",
       "2          2016               98.0                80  \n",
       "3          2008               98.0                80  \n",
       "4          2014               94.0                80  "
      ]
     },
     "execution_count": 30,
     "metadata": {},
     "output_type": "execute_result"
    }
   ],
   "source": [
    "df_n.head()"
   ]
  },
  {
   "cell_type": "code",
   "execution_count": 31,
   "metadata": {},
   "outputs": [
    {
     "data": {
      "text/html": [
       "<div>\n",
       "<style scoped>\n",
       "    .dataframe tbody tr th:only-of-type {\n",
       "        vertical-align: middle;\n",
       "    }\n",
       "\n",
       "    .dataframe tbody tr th {\n",
       "        vertical-align: top;\n",
       "    }\n",
       "\n",
       "    .dataframe thead th {\n",
       "        text-align: right;\n",
       "    }\n",
       "</style>\n",
       "<table border=\"1\" class=\"dataframe\">\n",
       "  <thead>\n",
       "    <tr style=\"text-align: right;\">\n",
       "      <th></th>\n",
       "      <th>ratingDescription</th>\n",
       "      <th>release year</th>\n",
       "      <th>user rating score</th>\n",
       "      <th>user rating size</th>\n",
       "    </tr>\n",
       "  </thead>\n",
       "  <tbody>\n",
       "    <tr>\n",
       "      <td>count</td>\n",
       "      <td>1000.00000</td>\n",
       "      <td>1000.000000</td>\n",
       "      <td>605.000000</td>\n",
       "      <td>1000.000000</td>\n",
       "    </tr>\n",
       "    <tr>\n",
       "      <td>mean</td>\n",
       "      <td>67.36600</td>\n",
       "      <td>2010.335000</td>\n",
       "      <td>84.094215</td>\n",
       "      <td>80.783000</td>\n",
       "    </tr>\n",
       "    <tr>\n",
       "      <td>std</td>\n",
       "      <td>30.78561</td>\n",
       "      <td>8.877927</td>\n",
       "      <td>12.344371</td>\n",
       "      <td>0.973066</td>\n",
       "    </tr>\n",
       "    <tr>\n",
       "      <td>min</td>\n",
       "      <td>10.00000</td>\n",
       "      <td>1940.000000</td>\n",
       "      <td>55.000000</td>\n",
       "      <td>80.000000</td>\n",
       "    </tr>\n",
       "    <tr>\n",
       "      <td>25%</td>\n",
       "      <td>35.00000</td>\n",
       "      <td>2007.000000</td>\n",
       "      <td>75.000000</td>\n",
       "      <td>80.000000</td>\n",
       "    </tr>\n",
       "    <tr>\n",
       "      <td>50%</td>\n",
       "      <td>60.00000</td>\n",
       "      <td>2015.000000</td>\n",
       "      <td>88.000000</td>\n",
       "      <td>80.000000</td>\n",
       "    </tr>\n",
       "    <tr>\n",
       "      <td>75%</td>\n",
       "      <td>90.00000</td>\n",
       "      <td>2016.000000</td>\n",
       "      <td>95.000000</td>\n",
       "      <td>82.000000</td>\n",
       "    </tr>\n",
       "    <tr>\n",
       "      <td>max</td>\n",
       "      <td>124.00000</td>\n",
       "      <td>2017.000000</td>\n",
       "      <td>99.000000</td>\n",
       "      <td>82.000000</td>\n",
       "    </tr>\n",
       "  </tbody>\n",
       "</table>\n",
       "</div>"
      ],
      "text/plain": [
       "       ratingDescription  release year  user rating score  user rating size\n",
       "count         1000.00000   1000.000000         605.000000       1000.000000\n",
       "mean            67.36600   2010.335000          84.094215         80.783000\n",
       "std             30.78561      8.877927          12.344371          0.973066\n",
       "min             10.00000   1940.000000          55.000000         80.000000\n",
       "25%             35.00000   2007.000000          75.000000         80.000000\n",
       "50%             60.00000   2015.000000          88.000000         80.000000\n",
       "75%             90.00000   2016.000000          95.000000         82.000000\n",
       "max            124.00000   2017.000000          99.000000         82.000000"
      ]
     },
     "execution_count": 31,
     "metadata": {},
     "output_type": "execute_result"
    }
   ],
   "source": [
    "df_n.describe()"
   ]
  },
  {
   "cell_type": "code",
   "execution_count": 5,
   "metadata": {},
   "outputs": [
    {
     "name": "stdout",
     "output_type": "stream",
     "text": [
      "<class 'pandas.core.frame.DataFrame'>\n",
      "RangeIndex: 1000 entries, 0 to 999\n",
      "Data columns (total 7 columns):\n",
      "title                1000 non-null object\n",
      "rating               1000 non-null object\n",
      "ratingLevel          941 non-null object\n",
      "ratingDescription    1000 non-null int64\n",
      "release year         1000 non-null int64\n",
      "user rating score    605 non-null float64\n",
      "user rating size     1000 non-null int64\n",
      "dtypes: float64(1), int64(3), object(3)\n",
      "memory usage: 54.8+ KB\n"
     ]
    }
   ],
   "source": [
    "df_n.info()"
   ]
  },
  {
   "cell_type": "code",
   "execution_count": 6,
   "metadata": {},
   "outputs": [
    {
     "data": {
      "text/plain": [
       "array(['PG-13', 'R', 'TV-14', 'TV-PG', 'TV-MA', 'TV-Y', 'NR', 'TV-Y7-FV',\n",
       "       'UR', 'PG', 'TV-G', 'G', 'TV-Y7'], dtype=object)"
      ]
     },
     "execution_count": 6,
     "metadata": {},
     "output_type": "execute_result"
    }
   ],
   "source": [
    "df_n['rating'].unique()"
   ]
  },
  {
   "cell_type": "code",
   "execution_count": 7,
   "metadata": {},
   "outputs": [
    {
     "data": {
      "text/plain": [
       "(1000, 7)"
      ]
     },
     "execution_count": 7,
     "metadata": {},
     "output_type": "execute_result"
    }
   ],
   "source": [
    "df_n.shape"
   ]
  },
  {
   "cell_type": "code",
   "execution_count": 8,
   "metadata": {},
   "outputs": [
    {
     "data": {
      "text/plain": [
       "title                False\n",
       "rating               False\n",
       "ratingLevel           True\n",
       "ratingDescription    False\n",
       "release year         False\n",
       "user rating score     True\n",
       "user rating size     False\n",
       "dtype: bool"
      ]
     },
     "execution_count": 8,
     "metadata": {},
     "output_type": "execute_result"
    }
   ],
   "source": [
    "df_n.isnull().any()"
   ]
  },
  {
   "cell_type": "code",
   "execution_count": 9,
   "metadata": {},
   "outputs": [],
   "source": [
    "df_n['ratingLevel'].fillna(0, inplace=True)"
   ]
  },
  {
   "cell_type": "code",
   "execution_count": 10,
   "metadata": {},
   "outputs": [],
   "source": [
    "df_n['user rating score'].fillna(0, inplace=True)"
   ]
  },
  {
   "cell_type": "code",
   "execution_count": 11,
   "metadata": {},
   "outputs": [
    {
     "data": {
      "text/plain": [
       "title                False\n",
       "rating               False\n",
       "ratingLevel          False\n",
       "ratingDescription    False\n",
       "release year         False\n",
       "user rating score    False\n",
       "user rating size     False\n",
       "dtype: bool"
      ]
     },
     "execution_count": 11,
     "metadata": {},
     "output_type": "execute_result"
    }
   ],
   "source": [
    "df_n.isnull().any()"
   ]
  },
  {
   "cell_type": "code",
   "execution_count": 33,
   "metadata": {},
   "outputs": [
    {
     "data": {
      "text/plain": [
       "title                  0\n",
       "rating                 0\n",
       "ratingLevel           59\n",
       "ratingDescription      0\n",
       "release year           0\n",
       "user rating score    395\n",
       "user rating size       0\n",
       "dtype: int64"
      ]
     },
     "execution_count": 33,
     "metadata": {},
     "output_type": "execute_result"
    }
   ],
   "source": [
    "df_n.isnull().sum()"
   ]
  },
  {
   "cell_type": "code",
   "execution_count": 14,
   "metadata": {},
   "outputs": [
    {
     "data": {
      "text/html": [
       "<div>\n",
       "<style scoped>\n",
       "    .dataframe tbody tr th:only-of-type {\n",
       "        vertical-align: middle;\n",
       "    }\n",
       "\n",
       "    .dataframe tbody tr th {\n",
       "        vertical-align: top;\n",
       "    }\n",
       "\n",
       "    .dataframe thead th {\n",
       "        text-align: right;\n",
       "    }\n",
       "</style>\n",
       "<table border=\"1\" class=\"dataframe\">\n",
       "  <thead>\n",
       "    <tr style=\"text-align: right;\">\n",
       "      <th></th>\n",
       "      <th>ratingDescription</th>\n",
       "      <th>release year</th>\n",
       "      <th>user rating score</th>\n",
       "    </tr>\n",
       "  </thead>\n",
       "  <tbody>\n",
       "    <tr>\n",
       "      <td>ratingDescription</td>\n",
       "      <td>1.000000</td>\n",
       "      <td>0.408020</td>\n",
       "      <td>0.271701</td>\n",
       "    </tr>\n",
       "    <tr>\n",
       "      <td>release year</td>\n",
       "      <td>0.408020</td>\n",
       "      <td>1.000000</td>\n",
       "      <td>0.049116</td>\n",
       "    </tr>\n",
       "    <tr>\n",
       "      <td>user rating score</td>\n",
       "      <td>0.271701</td>\n",
       "      <td>0.049116</td>\n",
       "      <td>1.000000</td>\n",
       "    </tr>\n",
       "  </tbody>\n",
       "</table>\n",
       "</div>"
      ],
      "text/plain": [
       "                   ratingDescription  release year  user rating score\n",
       "ratingDescription           1.000000      0.408020           0.271701\n",
       "release year                0.408020      1.000000           0.049116\n",
       "user rating score           0.271701      0.049116           1.000000"
      ]
     },
     "execution_count": 14,
     "metadata": {},
     "output_type": "execute_result"
    }
   ],
   "source": [
    "df_n.corr()"
   ]
  },
  {
   "cell_type": "code",
   "execution_count": 17,
   "metadata": {},
   "outputs": [
    {
     "data": {
      "text/plain": [
       "Text(0.5, 1.0, 'Data Pengguna Netflix berdasarkan Rating')"
      ]
     },
     "execution_count": 17,
     "metadata": {},
     "output_type": "execute_result"
    },
    {
     "data": {
      "image/png": "[encoded data removed]",
      "text/plain": [
       "<Figure size 1368x504 with 1 Axes>"
      ]
     },
     "metadata": {},
     "output_type": "display_data"
    }
   ],
   "source": [
    "df_n['rating'].value_counts().plot.pie(autopct='%1.1f%%', figsize = (19, 7), labels = None, legend = True)\n",
    "plt.title('Data Pengguna Netflix berdasarkan Rating', fontsize = 16)"
   ]
  },
  {
   "cell_type": "code",
   "execution_count": null,
   "metadata": {},
   "outputs": [],
   "source": []
  }
 ],
 "metadata": {
  "kernelspec": {
   "display_name": "Python 3",
   "language": "python",
   "name": "python3"
  },
  "language_info": {
   "codemirror_mode": {
    "name": "ipython",
    "version": 3
   },
   "file_extension": ".py",
   "mimetype": "text/x-python",
   "name": "python",
   "nbconvert_exporter": "python",
   "pygments_lexer": "ipython3",
   "version": "3.7.4"
  }
 },
 "nbformat": 4,
 "nbformat_minor": 2
}
